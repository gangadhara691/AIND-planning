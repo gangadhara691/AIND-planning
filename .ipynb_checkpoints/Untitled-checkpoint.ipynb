{
 "cells": [
  {
   "cell_type": "markdown",
   "metadata": {
    "collapsed": true,
    "deletable": true,
    "editable": true
   },
   "source": [
    "# Report Analysis a Planning Search For a Air Cargo \n",
    "\n",
    "This project implements deterministic logistics planning problems for an Air Cargo transport system using a planning search agent.Optimal plans for each problem are computed.\n",
    "\n",
    "\n",
    "## Non-Heuristic  Search Strategies Analysis\n",
    "For air_cargo_p1, air_cargo_p2, and air_cargo_p3; metrics on number of node expansions required, number of goal tests, time elapsed, and optimality of solution for each search algorithm are given in the tables below. Included the result of at least three of these searches, including breadth-first and depth-first and greedy best first graph search.\n",
    "\n",
    "### Solving Air Cargo Problem 1\n",
    "|Search Type\t|\tExpansions|\tGoal Tests|\tNew Nodes|\tLength\t|Time (s)|\tOptimal|\n",
    "|-----------|--------------|---------------------------------------------------------------|\n",
    "|Breadth First Search |43 |56 |180 |6|0.0827|Yes|\n",
    "|Depth First Graph Search|\t21|\t22|\t84|\t20|\t0.0447|\tNo|\n",
    "|Greedy_best_first_graph_search with h_1|7|9|28|6|0.01191|Yes|\n",
    "\n",
    "### Solving Air Cargo Problem 2\n",
    "|Search Type\t|\tExpansions|\tGoal Tests|\tNew Nodes|\tLength\t|Time (s)|\tOptimal|\n",
    "|-----------|--------------|---------------------------------------------------------------|\n",
    "|Breadth First Search | 3343|4609|30509  |9|33.94|\tYes|\n",
    "|Depth First Graph Search| 624|625| 5602|619|7.64|\tNo|\n",
    "|Greedy_best_first_graph_search with h_1|998|1000|8982|21|5.7|No|\n",
    "\n",
    "### Solving Air Cargo Problem 3\n",
    "|Search Type\t|\tExpansions|\tGoal Tests|\tNew Nodes|\tLength\t|Time (s)|\tOptimal|\n",
    "|-----------|--------------|---------------------------------------------------------------|\n",
    "|Breadth First Search |14663|18098|129631|12|250.5|\tYes|\n",
    "|Depth First Graph Search|408| 409|3364|392|4.17|\tNo|\n",
    "|Greedy_best_first_graph_search with h_1|4031|4033|35794|22|31.6|No|\n",
    "\n",
    "\n",
    ">### Analysis\n",
    ">Non-heuristic search strategies used are 'breadth first search','greedy best first graph search', and 'depth first graph search'. Breadth first search always considers the shortest path first and a result of it finds a solution to the problem in a reasonable amount of time and in an optimal way.\n",
    "\n",
    ">Depth first graph search finds a solution quickly and consumes little memory, but it the length is not optimal. It lacks optimal nature because it does not give priority or consider node over another, it simply explores the nodes that take it as deep as possible in the graph.\n",
    "\n",
    "\n",
    "\n",
    "## Informed (Heuristic) Search Strategies Analysis\n",
    "\n",
    " A* planning searches using the heuristics are implemented on 'air_cargo_p1, air_cargo_p2 and air_cargo_p3'. Metrics on number of node expansions required, number of goal tests, time elapsed, and optimality of solution for each search algorithm are provided below.\n",
    "\n",
    "\n",
    "### Solving Air Cargo Problem 1\n",
    "|Search Type|\tExpansions|\tGoal Tests|\tNew Nodes|\tLength\t|Time (s)|\tOptimal|\n",
    "|-----------|--------------|---------------------------------------------------------------|\n",
    "|A* Search h_1|55|\t57|\t224\t|6|\t0.103|Yes|\n",
    "|A* Search with h_ignore_preconditions|\t41|43|170|6|0.101|Yes|\n",
    "|A* Search h_pg_levelsum|11|13|50|6|2.91|Yes|\n",
    "\n",
    "### Solving Air Cargo Problem 2\n",
    "|Search Type|\tExpansions|\tGoal Tests|\tNew Nodes|\tLength\t|Time (s)|\tOptimal|\n",
    "|-----------|--------------|---------------------------------------------------------------|\n",
    "|A* Search h_1|4853|4855|44041|9|35.5|Yes|\n",
    "|A* Search with h_ignore_preconditions|1450|1452|13303|9|12.85|Yes|\n",
    "|A* Search h_pg_levelsum|86|88|841|9|249.6|Yes|\n",
    "\n",
    "### Solving Air Cargo Problem 3\n",
    "|Search Type|\tExpansions|\tGoal Tests|\tNew Nodes|\tLength\t|Time (s)|\tOptimal|\n",
    "|-----------|--------------|---------------------------------------------------------------|\n",
    "|A* Search h_1|17783|17785 |155920 |12|126.6|Yes|\n",
    "|A* Search with h_ignore_preconditions|5003|5005|44586|12|43.44|Yes|\n",
    "|A* Search h_pg_levelsum|311|313 |2863|12|1185.75(> 10 min)|No|\n",
    "\n",
    ">### Analysis\n",
    ">Heuristic searches performed well as the problem become more complex. This is more evident in the air cargo problem 3, where the “A* Search with ‘h_ignore_preconditions’” performance was optimal and the fastest amongst those that were optimal. The ‘h_pg_levelsum’ heuristic performed poorly because of the complex nature of heuristic.\n",
    "\n",
    "\n",
    "## Comparing Non-Informed and Heuristic(Taken best from both)\n",
    "### Solving Air Cargo Problem 1\n",
    "|Search Type\t|\tExpansions|\tGoal Tests|\tNew Nodes|\tLength\t|Time (s)|\tOptimal|\n",
    "|-----------|--------------|---------------------------------------------------------------|\n",
    "|Breadth First Search |43 |56 |180 |6|0.0827|Yes|\n",
    "|A* Search with h_ignore_preconditions|\t41|43|170|6|0.101|Yes|\n",
    "\n",
    "### Solving Air Cargo Problem 2\n",
    "|Search Type\t|\tExpansions|\tGoal Tests|\tNew Nodes|\tLength\t|Time (s)|\tOptimal|\n",
    "|-----------|--------------|---------------------------------------------------------------|\n",
    "|Breadth First Search | 3343|4609|30509  |9|33.94|\tYes|\n",
    "|A* Search with h_ignore_preconditions|1450|1452|13303|9|12.85|Yes|\n",
    "\n",
    "### Solving Air Cargo Problem 3\n",
    "|Search Type|\tExpansions|\tGoal Tests|\tNew Nodes|\tLength\t|Time (s)|\tOptimal|\n",
    "|-----------|--------------|---------------------------------------------------------------|\n",
    "|Breadth First Search |14663|18098|129631|12|250.5|\tYes|\n",
    "|A* Search with h_ignore_preconditions|5003|5005|44586|12|43.44|Yes|\n",
    "\n",
    ">According to the results obtained in this analysis, the breadth first search strategy can solve planning problems both fast and optimality, which makes it a good candidate to start off an analysis when dealing with search planning problems. As the complexity of the problems increase, it might be worth to consider if a heuristic based approach such as “A* Search with ‘h_ignore_preconditions’” can outperform breadth first search and thus be used instead.\n",
    "\n",
    "\n",
    "\n",
    "\n",
    "## Optimal Sequence of Actions\n",
    "\n",
    "### The following  describes an optimal sequence of actions to solve each of the air cargo problems provided  from the above tables:\n",
    "\n",
    "\n",
    "|Problem\t|Search Type\t|Optimal Sequence of Actions|\n",
    "|-----------------------------------------------------|\n",
    "|Air Cargo Problem 1 |breadth_first_search |Load(C1, P1, SFO)<br/>Load(C2, P2, JFK)<br/>Fly(P2, JFK, SFO)<br/>Unload(C2, P2, SFO)<br/>Fly(P1, SFO, JFK)<br/>Unload(C1, P1, JFK)|\n",
    "|Air Cargo Problem 2 | astar_search with h_ignore_preconditions|Load(C3, P3, ATL)<br/>Fly(P3, ATL, SFO)<br/>Unload(C3, P3,SFO)<br/>Load(C2, P2, JFK)<br/>Fly(P2, JFK, SFO)<br/>Unload(C2, P2, SFO)<br/>Load(C1, P1, SFO)<br/>Fly(P1, SFO, JFK)<br/>Unload(C1, P1, JFK)|\n",
    "|Air Cargo Problem 3 |astar_search with h_ignore_preconditions|Load(C2, P2, JFK)<br/>Fly(P2, JFK, ORD)<br/>Load(C4, P2,ORD)<br/>Fly(P2, ORD, SFO)<br/>Unload(C4, P2, SFO)<br/>Load(C1, P1, SFO)<br/>Fly(P1, SFO, ATL)<br/>Load(C3, P1, ATL)<br/>Fly(P1, ATL, JFK)<br/>Unload(C3, P1, JFK)<br/>Unload(C2, P2, SFO)<br/>Unload(C1, P1, JFK)|\n",
    "\n",
    "### References\n",
    "\n",
    "1. Stuart J. Russell, Peter Norvig (2010), Artificial Intelligence: A Modern Approach (3rd Edition).\n",
    "\n",
    "\n",
    "\n",
    "\n",
    "\n",
    "\n"
   ]
  },
  {
   "cell_type": "code",
   "execution_count": 40,
   "metadata": {
    "collapsed": false,
    "deletable": true,
    "editable": true,
    "scrolled": false
   },
   "outputs": [
    {
     "name": "stdout",
     "output_type": "stream",
     "text": [
      "\n",
      "Solving Air Cargo Problem 1 using breadth_first_search...\n",
      "\n",
      "Expansions   Goal Tests   New Nodes\n",
      "    36          36         120    \n",
      "\n"
     ]
    },
    {
     "ename": "AttributeError",
     "evalue": "'NoneType' object has no attribute 'solution'",
     "output_type": "error",
     "traceback": [
      "\u001b[1;31m---------------------------------------------------------------------------\u001b[0m",
      "\u001b[1;31mAttributeError\u001b[0m                            Traceback (most recent call last)",
      "\u001b[1;32mC:\\Users\\SAI\\Documents\\889nano\\AIND-Planning\\run_search.py\u001b[0m in \u001b[0;36m<module>\u001b[1;34m()\u001b[0m\n\u001b[0;32m    122\u001b[0m         \u001b[0mmanual\u001b[0m\u001b[1;33m(\u001b[0m\u001b[1;33m)\u001b[0m\u001b[1;33m\u001b[0m\u001b[0m\n\u001b[0;32m    123\u001b[0m     \u001b[1;32melif\u001b[0m \u001b[0margs\u001b[0m\u001b[1;33m.\u001b[0m\u001b[0mproblems\u001b[0m \u001b[1;32mand\u001b[0m \u001b[0margs\u001b[0m\u001b[1;33m.\u001b[0m\u001b[0msearches\u001b[0m\u001b[1;33m:\u001b[0m\u001b[1;33m\u001b[0m\u001b[0m\n\u001b[1;32m--> 124\u001b[1;33m         \u001b[0mmain\u001b[0m\u001b[1;33m(\u001b[0m\u001b[0mlist\u001b[0m\u001b[1;33m(\u001b[0m\u001b[0msorted\u001b[0m\u001b[1;33m(\u001b[0m\u001b[0mset\u001b[0m\u001b[1;33m(\u001b[0m\u001b[0margs\u001b[0m\u001b[1;33m.\u001b[0m\u001b[0mproblems\u001b[0m\u001b[1;33m)\u001b[0m\u001b[1;33m)\u001b[0m\u001b[1;33m)\u001b[0m\u001b[1;33m,\u001b[0m \u001b[0mlist\u001b[0m\u001b[1;33m(\u001b[0m\u001b[0msorted\u001b[0m\u001b[1;33m(\u001b[0m\u001b[0mset\u001b[0m\u001b[1;33m(\u001b[0m\u001b[1;33m(\u001b[0m\u001b[0margs\u001b[0m\u001b[1;33m.\u001b[0m\u001b[0msearches\u001b[0m\u001b[1;33m)\u001b[0m\u001b[1;33m)\u001b[0m\u001b[1;33m)\u001b[0m\u001b[1;33m)\u001b[0m\u001b[1;33m)\u001b[0m\u001b[1;33m\u001b[0m\u001b[0m\n\u001b[0m\u001b[0;32m    125\u001b[0m     \u001b[1;32melse\u001b[0m\u001b[1;33m:\u001b[0m\u001b[1;33m\u001b[0m\u001b[0m\n\u001b[0;32m    126\u001b[0m         \u001b[0mprint\u001b[0m\u001b[1;33m(\u001b[0m\u001b[1;33m)\u001b[0m\u001b[1;33m\u001b[0m\u001b[0m\n",
      "\u001b[1;32mC:\\Users\\SAI\\Documents\\889nano\\AIND-Planning\\run_search.py\u001b[0m in \u001b[0;36mmain\u001b[1;34m(p_choices, s_choices)\u001b[0m\n\u001b[0;32m     99\u001b[0m             \u001b[0m_p\u001b[0m \u001b[1;33m=\u001b[0m \u001b[0mp\u001b[0m\u001b[1;33m(\u001b[0m\u001b[1;33m)\u001b[0m\u001b[1;33m\u001b[0m\u001b[0m\n\u001b[0;32m    100\u001b[0m             \u001b[0m_h\u001b[0m \u001b[1;33m=\u001b[0m \u001b[1;32mNone\u001b[0m \u001b[1;32mif\u001b[0m \u001b[1;32mnot\u001b[0m \u001b[0mh\u001b[0m \u001b[1;32melse\u001b[0m \u001b[0mgetattr\u001b[0m\u001b[1;33m(\u001b[0m\u001b[0m_p\u001b[0m\u001b[1;33m,\u001b[0m \u001b[0mh\u001b[0m\u001b[1;33m)\u001b[0m\u001b[1;33m\u001b[0m\u001b[0m\n\u001b[1;32m--> 101\u001b[1;33m             \u001b[0mrun_search\u001b[0m\u001b[1;33m(\u001b[0m\u001b[0m_p\u001b[0m\u001b[1;33m,\u001b[0m \u001b[0ms\u001b[0m\u001b[1;33m,\u001b[0m \u001b[0m_h\u001b[0m\u001b[1;33m)\u001b[0m\u001b[1;33m\u001b[0m\u001b[0m\n\u001b[0m\u001b[0;32m    102\u001b[0m \u001b[1;33m\u001b[0m\u001b[0m\n\u001b[0;32m    103\u001b[0m \u001b[1;33m\u001b[0m\u001b[0m\n",
      "\u001b[1;32mC:\\Users\\SAI\\Documents\\889nano\\AIND-Planning\\run_search.py\u001b[0m in \u001b[0;36mrun_search\u001b[1;34m(problem, search_function, parameter)\u001b[0m\n\u001b[0;32m     61\u001b[0m     \u001b[0mprint\u001b[0m\u001b[1;33m(\u001b[0m\u001b[1;34m\"\\nExpansions   Goal Tests   New Nodes\"\u001b[0m\u001b[1;33m)\u001b[0m\u001b[1;33m\u001b[0m\u001b[0m\n\u001b[0;32m     62\u001b[0m     \u001b[0mprint\u001b[0m\u001b[1;33m(\u001b[0m\u001b[1;34m\"{}\\n\"\u001b[0m\u001b[1;33m.\u001b[0m\u001b[0mformat\u001b[0m\u001b[1;33m(\u001b[0m\u001b[0mip\u001b[0m\u001b[1;33m)\u001b[0m\u001b[1;33m)\u001b[0m\u001b[1;33m\u001b[0m\u001b[0m\n\u001b[1;32m---> 63\u001b[1;33m     \u001b[0mshow_solution\u001b[0m\u001b[1;33m(\u001b[0m\u001b[0mnode\u001b[0m\u001b[1;33m,\u001b[0m \u001b[0mend\u001b[0m \u001b[1;33m-\u001b[0m \u001b[0mstart\u001b[0m\u001b[1;33m)\u001b[0m\u001b[1;33m\u001b[0m\u001b[0m\n\u001b[0m\u001b[0;32m     64\u001b[0m     \u001b[0mprint\u001b[0m\u001b[1;33m(\u001b[0m\u001b[1;33m)\u001b[0m\u001b[1;33m\u001b[0m\u001b[0m\n\u001b[0;32m     65\u001b[0m \u001b[1;33m\u001b[0m\u001b[0m\n",
      "\u001b[1;32mC:\\Users\\SAI\\Documents\\889nano\\AIND-Planning\\run_search.py\u001b[0m in \u001b[0;36mshow_solution\u001b[1;34m(node, elapsed_time)\u001b[0m\n\u001b[0;32m    103\u001b[0m \u001b[1;33m\u001b[0m\u001b[0m\n\u001b[0;32m    104\u001b[0m \u001b[1;32mdef\u001b[0m \u001b[0mshow_solution\u001b[0m\u001b[1;33m(\u001b[0m\u001b[0mnode\u001b[0m\u001b[1;33m,\u001b[0m \u001b[0melapsed_time\u001b[0m\u001b[1;33m)\u001b[0m\u001b[1;33m:\u001b[0m\u001b[1;33m\u001b[0m\u001b[0m\n\u001b[1;32m--> 105\u001b[1;33m     \u001b[0mprint\u001b[0m\u001b[1;33m(\u001b[0m\u001b[1;34m\"Plan length: {}  Time elapsed in seconds: {}\"\u001b[0m\u001b[1;33m.\u001b[0m\u001b[0mformat\u001b[0m\u001b[1;33m(\u001b[0m\u001b[0mlen\u001b[0m\u001b[1;33m(\u001b[0m\u001b[0mnode\u001b[0m\u001b[1;33m.\u001b[0m\u001b[0msolution\u001b[0m\u001b[1;33m(\u001b[0m\u001b[1;33m)\u001b[0m\u001b[1;33m)\u001b[0m\u001b[1;33m,\u001b[0m \u001b[0melapsed_time\u001b[0m\u001b[1;33m)\u001b[0m\u001b[1;33m)\u001b[0m\u001b[1;33m\u001b[0m\u001b[0m\n\u001b[0m\u001b[0;32m    106\u001b[0m     \u001b[1;32mfor\u001b[0m \u001b[0maction\u001b[0m \u001b[1;32min\u001b[0m \u001b[0mnode\u001b[0m\u001b[1;33m.\u001b[0m\u001b[0msolution\u001b[0m\u001b[1;33m(\u001b[0m\u001b[1;33m)\u001b[0m\u001b[1;33m:\u001b[0m\u001b[1;33m\u001b[0m\u001b[0m\n\u001b[0;32m    107\u001b[0m         \u001b[0mprint\u001b[0m\u001b[1;33m(\u001b[0m\u001b[1;34m\"{}{}\"\u001b[0m\u001b[1;33m.\u001b[0m\u001b[0mformat\u001b[0m\u001b[1;33m(\u001b[0m\u001b[0maction\u001b[0m\u001b[1;33m.\u001b[0m\u001b[0mname\u001b[0m\u001b[1;33m,\u001b[0m \u001b[0maction\u001b[0m\u001b[1;33m.\u001b[0m\u001b[0margs\u001b[0m\u001b[1;33m)\u001b[0m\u001b[1;33m)\u001b[0m\u001b[1;33m\u001b[0m\u001b[0m\n",
      "\u001b[1;31mAttributeError\u001b[0m: 'NoneType' object has no attribute 'solution'"
     ]
    }
   ],
   "source": [
    "%run run_search.py -p 1 -s 1"
   ]
  },
  {
   "cell_type": "code",
   "execution_count": 38,
   "metadata": {
    "collapsed": false,
    "deletable": true,
    "editable": true,
    "scrolled": true
   },
   "outputs": [
    {
     "name": "stderr",
     "output_type": "stream",
     "text": [
      "F.........\n",
      "======================================================================\n",
      "FAIL: test_AC_actions (__main__.TestAirCargoMethods)\n",
      "----------------------------------------------------------------------\n",
      "Traceback (most recent call last):\n",
      "  File \"C:\\Users\\SAI\\Documents\\889nano\\AIND-Planning\\tests\\test_my_air_cargo_problems.py\", line 72, in test_AC_actions\n",
      "    self.assertEqual(len(self.p1.actions(self.p1.initial)), 4)\n",
      "AssertionError: 6 != 4\n",
      "\n",
      "----------------------------------------------------------------------\n",
      "Ran 10 tests in 0.258s\n",
      "\n",
      "FAILED (failures=1)\n"
     ]
    },
    {
     "ename": "SystemExit",
     "evalue": "True",
     "output_type": "error",
     "traceback": [
      "An exception has occurred, use %tb to see the full traceback.\n",
      "\u001b[1;31mSystemExit\u001b[0m\u001b[1;31m:\u001b[0m True\n"
     ]
    }
   ],
   "source": [
    "%run tests//test_my_air_cargo_problems.py "
   ]
  },
  {
   "cell_type": "markdown",
   "metadata": {
    "collapsed": true,
    "deletable": true,
    "editable": true
   },
   "source": [
    "| Status | Response  |\n",
    "| ------ | --------- |\n",
    "| 200    | `json`                          |\n",
    "|        | `   {`                          |\n",
    "|        | ` \"id\": 10,`                    |\n",
    "|        | ` \"username\": \"alanpartridge\",` |\n",
    "|        | ` more code...`                 |\n",
    "|        | `}`                             |\n",
    "| 400    |                                 |"
   ]
  },
  {
   "cell_type": "markdown",
   "metadata": {},
   "source": [
    "Change log, upgrade version\n",
    "\n",
    "Dependency | Old version | New version |\n",
    "---------- | ----------- | -----------\n",
    "Spring Boot | `1.3.5.RELEASE` | `1.4.3.RELEASE`\n",
    "Gradle | `2.13` | `3.2.1`\n",
    "Gradle plugin <br/>`com.gorylenko.gradle-git-properties` | `1.4.16` | `1.4.17`\n",
    "`org.webjars:requirejs` | `2.2.0` | `2.3.2`\n",
    "`org.webjars.npm:stompjs` | `2.3.3` | `2.3.3`\n",
    "`org.webjars.bower:sockjs-client` | `1.1.0` | `1.1.1`"
   ]
  },
  {
   "cell_type": "code",
   "execution_count": null,
   "metadata": {
    "collapsed": true
   },
   "outputs": [],
   "source": []
  }
 ],
 "metadata": {
  "kernelspec": {
   "display_name": "Python 3",
   "language": "python",
   "name": "python3"
  },
  "language_info": {
   "codemirror_mode": {
    "name": "ipython",
    "version": 3
   },
   "file_extension": ".py",
   "mimetype": "text/x-python",
   "name": "python",
   "nbconvert_exporter": "python",
   "pygments_lexer": "ipython3",
   "version": "3.6.0"
  }
 },
 "nbformat": 4,
 "nbformat_minor": 2
}
